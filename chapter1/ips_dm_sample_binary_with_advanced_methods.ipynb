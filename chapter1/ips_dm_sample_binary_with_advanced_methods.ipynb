{
 "cells": [
  {
   "cell_type": "code",
   "execution_count": 54,
   "metadata": {},
   "outputs": [],
   "source": [
    "from simulator import Simulator"
   ]
  },
  {
   "cell_type": "code",
   "execution_count": 55,
   "metadata": {},
   "outputs": [],
   "source": [
    "simulator = Simulator()"
   ]
  },
  {
   "cell_type": "code",
   "execution_count": 56,
   "metadata": {},
   "outputs": [
    {
     "data": {
      "text/html": [
       "<div>\n",
       "<style scoped>\n",
       "    .dataframe tbody tr th:only-of-type {\n",
       "        vertical-align: middle;\n",
       "    }\n",
       "\n",
       "    .dataframe tbody tr th {\n",
       "        vertical-align: top;\n",
       "    }\n",
       "\n",
       "    .dataframe thead th {\n",
       "        text-align: right;\n",
       "    }\n",
       "</style>\n",
       "<table border=\"1\" class=\"dataframe\">\n",
       "  <thead>\n",
       "    <tr style=\"text-align: right;\">\n",
       "      <th></th>\n",
       "      <th>IPS</th>\n",
       "      <th>DM</th>\n",
       "      <th>DR</th>\n",
       "      <th>CIPS</th>\n",
       "      <th>SNIPS</th>\n",
       "      <th>SDR</th>\n",
       "    </tr>\n",
       "    <tr>\n",
       "      <th>num_data</th>\n",
       "      <th></th>\n",
       "      <th></th>\n",
       "      <th></th>\n",
       "      <th></th>\n",
       "      <th></th>\n",
       "      <th></th>\n",
       "    </tr>\n",
       "  </thead>\n",
       "  <tbody>\n",
       "    <tr>\n",
       "      <th>100</th>\n",
       "      <td>0.138400</td>\n",
       "      <td>3.452794e-16</td>\n",
       "      <td>1.276756e-16</td>\n",
       "      <td>0.996740</td>\n",
       "      <td>0.991250</td>\n",
       "      <td>3.452794e-16</td>\n",
       "    </tr>\n",
       "    <tr>\n",
       "      <th>200</th>\n",
       "      <td>0.091017</td>\n",
       "      <td>3.808065e-16</td>\n",
       "      <td>1.465494e-16</td>\n",
       "      <td>0.997100</td>\n",
       "      <td>0.995230</td>\n",
       "      <td>3.808065e-16</td>\n",
       "    </tr>\n",
       "    <tr>\n",
       "      <th>400</th>\n",
       "      <td>0.055879</td>\n",
       "      <td>3.430589e-16</td>\n",
       "      <td>4.662937e-17</td>\n",
       "      <td>0.997937</td>\n",
       "      <td>0.997534</td>\n",
       "      <td>3.430589e-16</td>\n",
       "    </tr>\n",
       "    <tr>\n",
       "      <th>800</th>\n",
       "      <td>0.041736</td>\n",
       "      <td>3.719247e-16</td>\n",
       "      <td>9.992007e-18</td>\n",
       "      <td>0.998824</td>\n",
       "      <td>0.998765</td>\n",
       "      <td>3.719247e-16</td>\n",
       "    </tr>\n",
       "    <tr>\n",
       "      <th>1600</th>\n",
       "      <td>0.028082</td>\n",
       "      <td>2.986500e-16</td>\n",
       "      <td>6.661338e-18</td>\n",
       "      <td>0.999388</td>\n",
       "      <td>0.999386</td>\n",
       "      <td>2.986500e-16</td>\n",
       "    </tr>\n",
       "    <tr>\n",
       "      <th>6400</th>\n",
       "      <td>0.015823</td>\n",
       "      <td>5.118128e-16</td>\n",
       "      <td>2.220446e-18</td>\n",
       "      <td>0.999846</td>\n",
       "      <td>0.999846</td>\n",
       "      <td>5.118128e-16</td>\n",
       "    </tr>\n",
       "    <tr>\n",
       "      <th>12800</th>\n",
       "      <td>0.012550</td>\n",
       "      <td>5.895284e-16</td>\n",
       "      <td>0.000000e+00</td>\n",
       "      <td>0.999923</td>\n",
       "      <td>0.999923</td>\n",
       "      <td>5.895284e-16</td>\n",
       "    </tr>\n",
       "  </tbody>\n",
       "</table>\n",
       "</div>"
      ],
      "text/plain": [
       "               IPS            DM            DR      CIPS     SNIPS  \\\n",
       "num_data                                                             \n",
       "100       0.138400  3.452794e-16  1.276756e-16  0.996740  0.991250   \n",
       "200       0.091017  3.808065e-16  1.465494e-16  0.997100  0.995230   \n",
       "400       0.055879  3.430589e-16  4.662937e-17  0.997937  0.997534   \n",
       "800       0.041736  3.719247e-16  9.992007e-18  0.998824  0.998765   \n",
       "1600      0.028082  2.986500e-16  6.661338e-18  0.999388  0.999386   \n",
       "6400      0.015823  5.118128e-16  2.220446e-18  0.999846  0.999846   \n",
       "12800     0.012550  5.895284e-16  0.000000e+00  0.999923  0.999923   \n",
       "\n",
       "                   SDR  \n",
       "num_data                \n",
       "100       3.452794e-16  \n",
       "200       3.808065e-16  \n",
       "400       3.430589e-16  \n",
       "800       3.719247e-16  \n",
       "1600      2.986500e-16  \n",
       "6400      5.118128e-16  \n",
       "12800     5.895284e-16  "
      ]
     },
     "metadata": {},
     "output_type": "display_data"
    },
    {
     "data": {
      "text/plain": [
       "<Axes: xlabel='num_data', ylabel='error'>"
      ]
     },
     "execution_count": 56,
     "metadata": {},
     "output_type": "execute_result"
    },
    {
     "data": {
      "image/png": "[encoded data removed]",
      "text/plain": [
       "<Figure size 640x480 with 1 Axes>"
      ]
     },
     "metadata": {},
     "output_type": "display_data"
    }
   ],
   "source": [
    "res = simulator.sim_linear()\n",
    "display(res)\n",
    "res.plot(ylabel=\"error\")"
   ]
  },
  {
   "cell_type": "code",
   "execution_count": 57,
   "metadata": {},
   "outputs": [
    {
     "data": {
      "text/html": [
       "<div>\n",
       "<style scoped>\n",
       "    .dataframe tbody tr th:only-of-type {\n",
       "        vertical-align: middle;\n",
       "    }\n",
       "\n",
       "    .dataframe tbody tr th {\n",
       "        vertical-align: top;\n",
       "    }\n",
       "\n",
       "    .dataframe thead th {\n",
       "        text-align: right;\n",
       "    }\n",
       "</style>\n",
       "<table border=\"1\" class=\"dataframe\">\n",
       "  <thead>\n",
       "    <tr style=\"text-align: right;\">\n",
       "      <th></th>\n",
       "      <th>IPS</th>\n",
       "      <th>DM</th>\n",
       "      <th>DR</th>\n",
       "      <th>CIPS</th>\n",
       "      <th>SNIPS</th>\n",
       "      <th>SDR</th>\n",
       "    </tr>\n",
       "    <tr>\n",
       "      <th>num_data</th>\n",
       "      <th></th>\n",
       "      <th></th>\n",
       "      <th></th>\n",
       "      <th></th>\n",
       "      <th></th>\n",
       "      <th></th>\n",
       "    </tr>\n",
       "  </thead>\n",
       "  <tbody>\n",
       "    <tr>\n",
       "      <th>100</th>\n",
       "      <td>0.072582</td>\n",
       "      <td>0.031992</td>\n",
       "      <td>0.041318</td>\n",
       "      <td>0.994502</td>\n",
       "      <td>0.989863</td>\n",
       "      <td>0.031992</td>\n",
       "    </tr>\n",
       "    <tr>\n",
       "      <th>200</th>\n",
       "      <td>0.054991</td>\n",
       "      <td>0.030937</td>\n",
       "      <td>0.041534</td>\n",
       "      <td>0.995873</td>\n",
       "      <td>0.994978</td>\n",
       "      <td>0.030937</td>\n",
       "    </tr>\n",
       "    <tr>\n",
       "      <th>400</th>\n",
       "      <td>0.043085</td>\n",
       "      <td>0.021244</td>\n",
       "      <td>0.024293</td>\n",
       "      <td>0.997666</td>\n",
       "      <td>0.997493</td>\n",
       "      <td>0.021244</td>\n",
       "    </tr>\n",
       "    <tr>\n",
       "      <th>800</th>\n",
       "      <td>0.034259</td>\n",
       "      <td>0.016761</td>\n",
       "      <td>0.019382</td>\n",
       "      <td>0.998783</td>\n",
       "      <td>0.998750</td>\n",
       "      <td>0.016761</td>\n",
       "    </tr>\n",
       "    <tr>\n",
       "      <th>1600</th>\n",
       "      <td>0.019527</td>\n",
       "      <td>0.017179</td>\n",
       "      <td>0.013895</td>\n",
       "      <td>0.999378</td>\n",
       "      <td>0.999372</td>\n",
       "      <td>0.017179</td>\n",
       "    </tr>\n",
       "    <tr>\n",
       "      <th>12800</th>\n",
       "      <td>0.006551</td>\n",
       "      <td>0.012640</td>\n",
       "      <td>0.004498</td>\n",
       "      <td>0.999922</td>\n",
       "      <td>0.999922</td>\n",
       "      <td>0.012640</td>\n",
       "    </tr>\n",
       "  </tbody>\n",
       "</table>\n",
       "</div>"
      ],
      "text/plain": [
       "               IPS        DM        DR      CIPS     SNIPS       SDR\n",
       "num_data                                                            \n",
       "100       0.072582  0.031992  0.041318  0.994502  0.989863  0.031992\n",
       "200       0.054991  0.030937  0.041534  0.995873  0.994978  0.030937\n",
       "400       0.043085  0.021244  0.024293  0.997666  0.997493  0.021244\n",
       "800       0.034259  0.016761  0.019382  0.998783  0.998750  0.016761\n",
       "1600      0.019527  0.017179  0.013895  0.999378  0.999372  0.017179\n",
       "12800     0.006551  0.012640  0.004498  0.999922  0.999922  0.012640"
      ]
     },
     "metadata": {},
     "output_type": "display_data"
    },
    {
     "data": {
      "text/plain": [
       "<Axes: xlabel='num_data', ylabel='error'>"
      ]
     },
     "execution_count": 57,
     "metadata": {},
     "output_type": "execute_result"
    },
    {
     "data": {
      "image/png": "[encoded data removed]",
      "text/plain": [
       "<Figure size 640x480 with 1 Axes>"
      ]
     },
     "metadata": {},
     "output_type": "display_data"
    }
   ],
   "source": [
    "res = simulator.sim_nonlinear()\n",
    "display(res)\n",
    "res.plot(ylabel=\"error\")"
   ]
  },
  {
   "cell_type": "code",
   "execution_count": null,
   "metadata": {},
   "outputs": [],
   "source": []
  }
 ],
 "metadata": {
  "kernelspec": {
   "display_name": "venv",
   "language": "python",
   "name": "python3"
  },
  "language_info": {
   "codemirror_mode": {
    "name": "ipython",
    "version": 3
   },
   "file_extension": ".py",
   "mimetype": "text/x-python",
   "name": "python",
   "nbconvert_exporter": "python",
   "pygments_lexer": "ipython3",
   "version": "3.10.5"
  }
 },
 "nbformat": 4,
 "nbformat_minor": 2
}
