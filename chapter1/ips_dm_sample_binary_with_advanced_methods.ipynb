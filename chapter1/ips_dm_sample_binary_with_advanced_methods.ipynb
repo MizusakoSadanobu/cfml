{
 "cells": [
  {
   "cell_type": "code",
   "execution_count": 54,
   "metadata": {},
   "outputs": [],
   "source": [
    "from simulator import Simulator"
   ]
  },
  {
   "cell_type": "code",
   "execution_count": 55,
   "metadata": {},
   "outputs": [],
   "source": [
    "simulator = Simulator()"
   ]
  },
  {
   "cell_type": "code",
   "execution_count": 56,
   "metadata": {},
   "outputs": [],
   "source": [
    "res = simulator.sim_linear()\n",
    "display(res)\n",
    "res.plot(ylabel=\"error\")"
   ]
  },
  {
   "cell_type": "code",
   "execution_count": null,
   "metadata": {},
   "outputs": [
    {
     "name": "stderr",
     "output_type": "stream",
     "text": [
      "c:\\Users\\sadan\\OneDrive\\Desktop\\code\\time_series_analysis\\venv\\lib\\site-packages\\pandas\\core\\arraylike.py:399: RuntimeWarning: overflow encountered in exp\n",
      "  result = getattr(ufunc, method)(*inputs, **kwargs)\n"
     ]
    },
    {
     "data": {
      "text/html": [
       "<div>\n",
       "<style scoped>\n",
       "    .dataframe tbody tr th:only-of-type {\n",
       "        vertical-align: middle;\n",
       "    }\n",
       "\n",
       "    .dataframe tbody tr th {\n",
       "        vertical-align: top;\n",
       "    }\n",
       "\n",
       "    .dataframe thead th {\n",
       "        text-align: right;\n",
       "    }\n",
       "</style>\n",
       "<table border=\"1\" class=\"dataframe\">\n",
       "  <thead>\n",
       "    <tr style=\"text-align: right;\">\n",
       "      <th></th>\n",
       "      <th>IPS</th>\n",
       "      <th>DM</th>\n",
       "      <th>DR</th>\n",
       "      <th>CIPS</th>\n",
       "      <th>SNIPS</th>\n",
       "      <th>SDR</th>\n",
       "    </tr>\n",
       "    <tr>\n",
       "      <th>num_data</th>\n",
       "      <th></th>\n",
       "      <th></th>\n",
       "      <th></th>\n",
       "      <th></th>\n",
       "      <th></th>\n",
       "      <th></th>\n",
       "    </tr>\n",
       "  </thead>\n",
       "  <tbody>\n",
       "    <tr>\n",
       "      <th>100</th>\n",
       "      <td>0.074792</td>\n",
       "      <td>0.038067</td>\n",
       "      <td>0.045149</td>\n",
       "      <td>0.994713</td>\n",
       "      <td>0.989827</td>\n",
       "      <td>0.038067</td>\n",
       "    </tr>\n",
       "    <tr>\n",
       "      <th>200</th>\n",
       "      <td>0.050793</td>\n",
       "      <td>0.029508</td>\n",
       "      <td>0.036053</td>\n",
       "      <td>0.995855</td>\n",
       "      <td>0.994971</td>\n",
       "      <td>0.029508</td>\n",
       "    </tr>\n",
       "    <tr>\n",
       "      <th>400</th>\n",
       "      <td>0.034527</td>\n",
       "      <td>0.020371</td>\n",
       "      <td>0.026837</td>\n",
       "      <td>0.997666</td>\n",
       "      <td>0.997506</td>\n",
       "      <td>0.020371</td>\n",
       "    </tr>\n",
       "    <tr>\n",
       "      <th>800</th>\n",
       "      <td>0.025333</td>\n",
       "      <td>0.015875</td>\n",
       "      <td>0.018131</td>\n",
       "      <td>0.998785</td>\n",
       "      <td>0.998750</td>\n",
       "      <td>0.015875</td>\n",
       "    </tr>\n",
       "    <tr>\n",
       "      <th>1600</th>\n",
       "      <td>0.022678</td>\n",
       "      <td>0.014224</td>\n",
       "      <td>0.011987</td>\n",
       "      <td>0.999380</td>\n",
       "      <td>0.999375</td>\n",
       "      <td>0.014224</td>\n",
       "    </tr>\n",
       "    <tr>\n",
       "      <th>12800</th>\n",
       "      <td>0.008215</td>\n",
       "      <td>0.013750</td>\n",
       "      <td>0.004554</td>\n",
       "      <td>0.999922</td>\n",
       "      <td>0.999922</td>\n",
       "      <td>0.013750</td>\n",
       "    </tr>\n",
       "  </tbody>\n",
       "</table>\n",
       "</div>"
      ],
      "text/plain": [
       "               IPS        DM        DR      CIPS     SNIPS       SDR\n",
       "num_data                                                            \n",
       "100       0.074792  0.038067  0.045149  0.994713  0.989827  0.038067\n",
       "200       0.050793  0.029508  0.036053  0.995855  0.994971  0.029508\n",
       "400       0.034527  0.020371  0.026837  0.997666  0.997506  0.020371\n",
       "800       0.025333  0.015875  0.018131  0.998785  0.998750  0.015875\n",
       "1600      0.022678  0.014224  0.011987  0.999380  0.999375  0.014224\n",
       "12800     0.008215  0.013750  0.004554  0.999922  0.999922  0.013750"
      ]
     },
     "metadata": {},
     "output_type": "display_data"
    },
    {
     "data": {
      "text/plain": [
       "<Axes: xlabel='num_data', ylabel='error'>"
      ]
     },
     "execution_count": 53,
     "metadata": {},
     "output_type": "execute_result"
    },
    {
     "data": {
      "image/png": "[encoded data removed]",
      "text/plain": [
       "<Figure size 640x480 with 1 Axes>"
      ]
     },
     "metadata": {},
     "output_type": "display_data"
    }
   ],
   "source": [
    "res = simulator.sim_nonlinear()\n",
    "display(res)\n",
    "res.plot(ylabel=\"error\")"
   ]
  },
  {
   "cell_type": "code",
   "execution_count": null,
   "metadata": {},
   "outputs": [],
   "source": []
  }
 ],
 "metadata": {
  "kernelspec": {
   "display_name": "venv",
   "language": "python",
   "name": "python3"
  },
  "language_info": {
   "codemirror_mode": {
    "name": "ipython",
    "version": 3
   },
   "file_extension": ".py",
   "mimetype": "text/x-python",
   "name": "python",
   "nbconvert_exporter": "python",
   "pygments_lexer": "ipython3",
   "version": "3.10.5"
  }
 },
 "nbformat": 4,
 "nbformat_minor": 2
}
