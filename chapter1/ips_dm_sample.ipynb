{
 "cells": [
  {
   "cell_type": "markdown",
   "metadata": {},
   "source": [
    "# モデルがFitしているケース"
   ]
  },
  {
   "cell_type": "code",
   "execution_count": 8,
   "metadata": {},
   "outputs": [],
   "source": [
    "import pandas as pd\n",
    "import numpy as np\n",
    "from sklearn.linear_model import LinearRegression, LogisticRegression\n",
    "\n",
    "def sigmoid(self, x):\n",
    "    return 1./(1+np.exp(-x))\n",
    "\n",
    "class simulater():\n",
    "    def set_num_data(self, num_data):\n",
    "        self.num_data = num_data\n",
    "\n",
    "    def generate_linear_data(self):\n",
    "        num_data = self.num_data\n",
    "\n",
    "        self.df = pd.DataFrame({\n",
    "            \"x1\": np.random.normal(size=num_data),\n",
    "            \"x2\": np.random.normal(size=num_data),    \n",
    "        }).assign(\n",
    "            prob_t = lambda df: sigmoid(df.x1**2+df.x2),\n",
    "            t = lambda df: (df.prob_t >= np.random.uniform(size=num_data))*1,\n",
    "            reward = lambda df: df.x1 - df.x2 + df.t * 2\n",
    "        )\n",
    "        return self.df\n",
    "\n",
    "    def generate_nonlinear_data(self):\n",
    "        num_data = self.num_data\n",
    "\n",
    "        self.df = pd.DataFrame({\n",
    "            \"x1\": np.random.normal(size=num_data),\n",
    "            \"x2\": np.random.normal(size=num_data),    \n",
    "        }).assign(\n",
    "            prob_t = lambda df: sigmoid(df.x1**2+df.x2),\n",
    "            t = lambda df: (df.prob_t >= np.random.uniform(size=num_data))*1,\n",
    "            reward = lambda df: df.x1**4 - df.x2**4 + df.t\n",
    "        )\n",
    "        return self.df\n",
    "\n",
    "    def IPS(self):\n",
    "        df = self.df\n",
    "        mode = LogisticRegression().fit(X=df[[\"x1\", \"x2\"]], y=df[\"t\"]==1)\n",
    "        df[\"t_pred\"] = mode.predict_proba(df[[\"x1\", \"x2\"]])[:,1]\n",
    "\n",
    "        df[\"reward_treatment\"] = df[\"reward\"]*df[\"t\"]/df[\"t_pred\"]\n",
    "        df[\"reward_no_treatment\"] = df[\"reward\"]*(1-df[\"t\"])/(1-df[\"t_pred\"])\n",
    "\n",
    "        return abs((df[\"reward_treatment\"]-df[\"reward_no_treatment\"]).mean()-1)\n",
    "\n",
    "    def DM(self):\n",
    "        df = self.df\n",
    "        mode = LinearRegression().fit(X=df[[\"x1\", \"x2\", \"t\"]], y=df[\"reward\"])\n",
    "        df[\"reward_treatment\"] = mode.predict(df[[\"x1\", \"x2\", \"t\"]].assign(t=1))\n",
    "        df[\"reward_no_treatment\"] = mode.predict(df[[\"x1\", \"x2\", \"t\"]].assign(t=0))\n",
    "\n",
    "        return abs((df[\"reward_treatment\"]-df[\"reward_no_treatment\"]).mean()-1)\n",
    "    \n",
    "    def sim_linear(self):\n",
    "        ress= []\n",
    "        for num_data in [100, 200, 400, 800, 1600, 3200]:\n",
    "            self.generate_linear_data()\n",
    "            res = {\"num_data\":num_data}\n",
    "            res[\"IPS\"] = self.IPS()\n",
    "            res[\"DM\"] = self.DM()\n",
    "            ress.append(res)\n",
    "        return pd.DataFrame(ress)\n",
    "\n",
    "    def sim_nonlinear(self):\n",
    "        ress= []\n",
    "        for num_data in [100, 200, 400, 800, 1600, 3200]:\n",
    "            self.generate_linear_data()\n",
    "            res = {\"num_data\":num_data}\n",
    "            res[\"IPS\"] = self.IPS()\n",
    "            res[\"DM\"] = self.DM()\n",
    "            ress.append(res)\n",
    "        return pd.DataFrame(ress)"
   ]
  },
  {
   "cell_type": "markdown",
   "metadata": {},
   "source": [
    "# IPS / DM"
   ]
  },
  {
   "cell_type": "code",
   "execution_count": 7,
   "metadata": {},
   "outputs": [
    {
     "name": "stdout",
     "output_type": "stream",
     "text": [
      "1.830871230517721\n",
      "2.0\n"
     ]
    }
   ],
   "source": []
  },
  {
   "cell_type": "code",
   "execution_count": null,
   "metadata": {},
   "outputs": [],
   "source": []
  }
 ],
 "metadata": {
  "kernelspec": {
   "display_name": "venv",
   "language": "python",
   "name": "python3"
  },
  "language_info": {
   "codemirror_mode": {
    "name": "ipython",
    "version": 3
   },
   "file_extension": ".py",
   "mimetype": "text/x-python",
   "name": "python",
   "nbconvert_exporter": "python",
   "pygments_lexer": "ipython3",
   "version": "3.10.5"
  }
 },
 "nbformat": 4,
 "nbformat_minor": 2
}
