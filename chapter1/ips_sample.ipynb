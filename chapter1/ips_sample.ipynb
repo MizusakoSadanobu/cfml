{
 "cells": [
  {
   "cell_type": "code",
   "execution_count": 6,
   "metadata": {},
   "outputs": [
    {
     "data": {
      "text/html": [
       "<div>\n",
       "<style scoped>\n",
       "    .dataframe tbody tr th:only-of-type {\n",
       "        vertical-align: middle;\n",
       "    }\n",
       "\n",
       "    .dataframe tbody tr th {\n",
       "        vertical-align: top;\n",
       "    }\n",
       "\n",
       "    .dataframe thead th {\n",
       "        text-align: right;\n",
       "    }\n",
       "</style>\n",
       "<table border=\"1\" class=\"dataframe\">\n",
       "  <thead>\n",
       "    <tr style=\"text-align: right;\">\n",
       "      <th></th>\n",
       "      <th>x1</th>\n",
       "      <th>x2</th>\n",
       "      <th>prob_t</th>\n",
       "      <th>t</th>\n",
       "      <th>reward</th>\n",
       "    </tr>\n",
       "  </thead>\n",
       "  <tbody>\n",
       "    <tr>\n",
       "      <th>0</th>\n",
       "      <td>0.674851</td>\n",
       "      <td>-0.637145</td>\n",
       "      <td>0.509425</td>\n",
       "      <td>1</td>\n",
       "      <td>2.311996</td>\n",
       "    </tr>\n",
       "    <tr>\n",
       "      <th>1</th>\n",
       "      <td>0.267070</td>\n",
       "      <td>-0.994096</td>\n",
       "      <td>0.325848</td>\n",
       "      <td>0</td>\n",
       "      <td>1.261166</td>\n",
       "    </tr>\n",
       "    <tr>\n",
       "      <th>2</th>\n",
       "      <td>0.881975</td>\n",
       "      <td>0.062009</td>\n",
       "      <td>0.719904</td>\n",
       "      <td>0</td>\n",
       "      <td>0.819966</td>\n",
       "    </tr>\n",
       "    <tr>\n",
       "      <th>3</th>\n",
       "      <td>2.388497</td>\n",
       "      <td>0.258595</td>\n",
       "      <td>0.933832</td>\n",
       "      <td>1</td>\n",
       "      <td>3.129902</td>\n",
       "    </tr>\n",
       "    <tr>\n",
       "      <th>4</th>\n",
       "      <td>1.158642</td>\n",
       "      <td>-0.582305</td>\n",
       "      <td>0.640224</td>\n",
       "      <td>1</td>\n",
       "      <td>2.740947</td>\n",
       "    </tr>\n",
       "    <tr>\n",
       "      <th>...</th>\n",
       "      <td>...</td>\n",
       "      <td>...</td>\n",
       "      <td>...</td>\n",
       "      <td>...</td>\n",
       "      <td>...</td>\n",
       "    </tr>\n",
       "    <tr>\n",
       "      <th>9995</th>\n",
       "      <td>0.553851</td>\n",
       "      <td>-1.027744</td>\n",
       "      <td>0.383695</td>\n",
       "      <td>1</td>\n",
       "      <td>2.581595</td>\n",
       "    </tr>\n",
       "    <tr>\n",
       "      <th>9996</th>\n",
       "      <td>0.018320</td>\n",
       "      <td>-0.577641</td>\n",
       "      <td>0.363705</td>\n",
       "      <td>0</td>\n",
       "      <td>0.595961</td>\n",
       "    </tr>\n",
       "    <tr>\n",
       "      <th>9997</th>\n",
       "      <td>0.527786</td>\n",
       "      <td>1.395862</td>\n",
       "      <td>0.872545</td>\n",
       "      <td>1</td>\n",
       "      <td>0.131924</td>\n",
       "    </tr>\n",
       "    <tr>\n",
       "      <th>9998</th>\n",
       "      <td>-0.251529</td>\n",
       "      <td>0.491120</td>\n",
       "      <td>0.559613</td>\n",
       "      <td>1</td>\n",
       "      <td>0.257350</td>\n",
       "    </tr>\n",
       "    <tr>\n",
       "      <th>9999</th>\n",
       "      <td>-1.204244</td>\n",
       "      <td>0.111142</td>\n",
       "      <td>0.251035</td>\n",
       "      <td>0</td>\n",
       "      <td>-1.315385</td>\n",
       "    </tr>\n",
       "  </tbody>\n",
       "</table>\n",
       "<p>10000 rows × 5 columns</p>\n",
       "</div>"
      ],
      "text/plain": [
       "            x1        x2    prob_t  t    reward\n",
       "0     0.674851 -0.637145  0.509425  1  2.311996\n",
       "1     0.267070 -0.994096  0.325848  0  1.261166\n",
       "2     0.881975  0.062009  0.719904  0  0.819966\n",
       "3     2.388497  0.258595  0.933832  1  3.129902\n",
       "4     1.158642 -0.582305  0.640224  1  2.740947\n",
       "...        ...       ...       ... ..       ...\n",
       "9995  0.553851 -1.027744  0.383695  1  2.581595\n",
       "9996  0.018320 -0.577641  0.363705  0  0.595961\n",
       "9997  0.527786  1.395862  0.872545  1  0.131924\n",
       "9998 -0.251529  0.491120  0.559613  1  0.257350\n",
       "9999 -1.204244  0.111142  0.251035  0 -1.315385\n",
       "\n",
       "[10000 rows x 5 columns]"
      ]
     },
     "execution_count": 6,
     "metadata": {},
     "output_type": "execute_result"
    }
   ],
   "source": [
    "import pandas as pd\n",
    "import numpy as np\n",
    "from sklearn.linear_model import LinearRegression, LogisticRegression\n",
    "\n",
    "num_data = 10000\n",
    "\n",
    "def sigmoid(x):\n",
    "    return 1./(1+np.exp(-x))\n",
    "\n",
    "df = pd.DataFrame({\n",
    "    \"x1\": np.random.normal(size=num_data),\n",
    "    \"x2\": np.random.normal(size=num_data),    \n",
    "}).assign(\n",
    "    prob_t = lambda df: sigmoid(df.x1+df.x2),\n",
    "    t = lambda df: (df.prob_t >= np.random.uniform(size=num_data))*1,\n",
    "    reward = lambda df: df.x1 - df.x2 + df.t\n",
    ")\n",
    "\n",
    "df"
   ]
  },
  {
   "cell_type": "code",
   "execution_count": 10,
   "metadata": {},
   "outputs": [],
   "source": [
    "mode = LogisticRegression().fit(X=df[[\"x1\", \"x2\"]], y=df[\"t\"]==1)\n",
    "df[\"t_pred\"] = mode.predict_proba(df[[\"x1\", \"x2\"]])[:,1]"
   ]
  },
  {
   "cell_type": "code",
   "execution_count": 13,
   "metadata": {},
   "outputs": [],
   "source": [
    "df[\"reward_treatment\"] = df[\"reward\"]*df[\"t\"]/df[\"t_pred\"]\n",
    "df[\"reward_no_treatment\"] = df[\"reward\"]*(1-df[\"t\"])/(1-df[\"t_pred\"])"
   ]
  },
  {
   "cell_type": "code",
   "execution_count": 14,
   "metadata": {},
   "outputs": [
    {
     "data": {
      "text/plain": [
       "1.0293621663066082"
      ]
     },
     "execution_count": 14,
     "metadata": {},
     "output_type": "execute_result"
    }
   ],
   "source": [
    "(df[\"reward_treatment\"]-df[\"reward_no_treatment\"]).mean()"
   ]
  },
  {
   "cell_type": "code",
   "execution_count": null,
   "metadata": {},
   "outputs": [],
   "source": []
  }
 ],
 "metadata": {
  "kernelspec": {
   "display_name": "venv",
   "language": "python",
   "name": "python3"
  },
  "language_info": {
   "codemirror_mode": {
    "name": "ipython",
    "version": 3
   },
   "file_extension": ".py",
   "mimetype": "text/x-python",
   "name": "python",
   "nbconvert_exporter": "python",
   "pygments_lexer": "ipython3",
   "version": "3.10.5"
  }
 },
 "nbformat": 4,
 "nbformat_minor": 2
}
