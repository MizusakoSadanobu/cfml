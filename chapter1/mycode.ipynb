{
 "cells": [
  {
   "cell_type": "code",
   "execution_count": 1,
   "metadata": {},
   "outputs": [],
   "source": [
    "import numpy as np\n",
    "import pandas as pd\n",
    "from sklearn.linear_model import LinearRegression, LogisticRegression"
   ]
  },
  {
   "cell_type": "code",
   "execution_count": 2,
   "metadata": {},
   "outputs": [],
   "source": [
    "n_actions = 10\n",
    "n_features = 20\n",
    "n_data_list = [250, 500, 1000, 2000, 4000, 8000]"
   ]
  },
  {
   "cell_type": "code",
   "execution_count": 20,
   "metadata": {},
   "outputs": [],
   "source": [
    "n_data = n_data_list[1]\n",
    "\n",
    "x = np.random.normal(size=(n_data, n_features))\n",
    "Wx = np.random.normal(size=(n_actions, n_features))\n",
    "Bx = np.random.normal(size=(n_actions, 1))\n",
    "\n",
    "Wxa_x = np.random.normal(size=(n_features,))\n",
    "Wxa_a = np.random.normal(size=(n_actions,))\n",
    "\n",
    "def sigmoid(x):\n",
    "    return 1./(1.+np.exp(x))\n",
    "\n",
    "def feature2action(x):\n",
    "    prob_a = sigmoid(Wx@x.T+Bx).T\n",
    "    prob_a = prob_a/prob_a.sum(axis=1, keepdims=True)\n",
    "    return prob_a\n",
    "\n",
    "def sample_actions(prob_a):\n",
    "    data_size, action_size = prob_a.shape\n",
    "    actions = np.array([np.random.choice(action_size, p=prob_a[i]) for i in range(data_size)])\n",
    "    result = np.zeros_like(prob_a)\n",
    "    result[np.arange(data_size), actions] = 1\n",
    "    return result\n",
    "\n",
    "def action2reward(x, a):\n",
    "    return (Wxa_x@x.T+Wxa_a@a.T).T"
   ]
  },
  {
   "cell_type": "code",
   "execution_count": 26,
   "metadata": {},
   "outputs": [],
   "source": [
    "prob_a = feature2action(x)\n",
    "a = sample_actions(prob_a)\n",
    "r = action2reward(x, a)"
   ]
  },
  {
   "cell_type": "code",
   "execution_count": null,
   "metadata": {},
   "outputs": [],
   "source": []
  }
 ],
 "metadata": {
  "kernelspec": {
   "display_name": "venv",
   "language": "python",
   "name": "python3"
  },
  "language_info": {
   "codemirror_mode": {
    "name": "ipython",
    "version": 3
   },
   "file_extension": ".py",
   "mimetype": "text/x-python",
   "name": "python",
   "nbconvert_exporter": "python",
   "pygments_lexer": "ipython3",
   "version": "3.10.5"
  }
 },
 "nbformat": 4,
 "nbformat_minor": 2
}
