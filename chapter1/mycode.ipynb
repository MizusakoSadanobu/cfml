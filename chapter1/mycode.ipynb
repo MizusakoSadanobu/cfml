{
 "cells": [
  {
   "cell_type": "code",
   "execution_count": 28,
   "metadata": {},
   "outputs": [],
   "source": [
    "import numpy as np\n",
    "import pandas as pd\n",
    "from sklearn.linear_model import LinearRegression, LogisticRegression\n",
    "\n",
    "n_actions = 5\n",
    "n_features = 20\n",
    "n_data_list = [125, 250, 500, 1000, 2000, 4000, 8000]\n",
    "\n",
    "Wx = np.random.normal(size=(n_actions, n_features))\n",
    "Bx = np.random.normal(size=(n_actions, 1))\n",
    "\n",
    "Wxa_x = np.random.normal(size=(n_features,))\n",
    "Wxa_a = np.random.normal(size=(n_actions,))\n",
    "\n",
    "class Estimator():\n",
    "    def __init__(self, n_data):\n",
    "        self.x = np.random.normal(size=(n_data, n_features))\n",
    "        self.data_generator()\n",
    "\n",
    "    def sigmoid(self, x):\n",
    "        return np.exp(np.minimum(x, 0)) / (1 + np.exp(- np.abs(x)))\n",
    "\n",
    "    def feature2action0(self, x):\n",
    "        prob_a = self.sigmoid(Wx@x.T+Bx).T\n",
    "        prob_a = prob_a/prob_a.sum(axis=1, keepdims=True)\n",
    "        return prob_a\n",
    "\n",
    "    def feature2action(self, x):\n",
    "        prob_a = self.sigmoid(-Wx@x.T-Bx).T\n",
    "        prob_a = prob_a/prob_a.sum(axis=1, keepdims=True)\n",
    "        return prob_a\n",
    "\n",
    "    def sample_actions(self, prob_a):\n",
    "        data_size, action_size = prob_a.shape\n",
    "        actions = np.array([np.random.choice(action_size, p=prob_a[i]) for i in range(data_size)])\n",
    "        result = np.zeros_like(prob_a)\n",
    "        result[np.arange(data_size), actions] = 1\n",
    "        return result, actions\n",
    "\n",
    "    def action2reward(self, x, a):\n",
    "        return self.sigmoid(((Wxa_x@x.T)**4-(Wxa_x@x.T)**2-(Wxa_x@x.T)+(Wxa_a@a.T)).T)\n",
    "\n",
    "    def data_generator(self):\n",
    "        prob_a0 = self.feature2action0(self.x)\n",
    "        a0, actions0 = self.sample_actions(prob_a0)\n",
    "        r0 = self.action2reward(self.x, a0)\n",
    "\n",
    "        prob_a = self.feature2action(self.x)\n",
    "        a, actions = self.sample_actions(prob_a)\n",
    "        r = self.action2reward(self.x, a)\n",
    "\n",
    "        model = LogisticRegression(multi_class='multinomial', max_iter=200, solver='lbfgs')\n",
    "        model.fit(X=self.x, y=actions0)\n",
    "\n",
    "        a_pred0 = model.predict_proba(self.x)\n",
    "        a_pred0 = a_pred0 / a_pred0.sum(axis=1, keepdims=True)\n",
    "    \n",
    "        self.prob_a = prob_a\n",
    "        self.actions0 = actions0\n",
    "        self.actions = actions\n",
    "        self.a_pred0 = a_pred0\n",
    "        self.r0 = r0\n",
    "        self.r = r\n",
    "        self.a0 =a0\n",
    "    \n",
    "    def DM_estimator(self):\n",
    "        r0 = self.r0\n",
    "        r = self.r\n",
    "        a_pred0 = self.a_pred0\n",
    "        prob_a = self.prob_a\n",
    "\n",
    "        model = LinearRegression()\n",
    "        model.fit(X=np.concatenate([self.x, a_pred0], axis=1), y=r0)\n",
    "\n",
    "        self.r_pred = model.predict(X=np.concatenate([self.x, prob_a], axis=1))\n",
    "\n",
    "        return abs(((r-self.r_pred)).mean())\n",
    "\n",
    "    def IPS_estimator(self):\n",
    "        r0 = self.r0\n",
    "        r = self.r\n",
    "        a_pred0 = self.a_pred0\n",
    "        prob_a = self.prob_a\n",
    "        actions = self.actions\n",
    "        actions0 = self.actions0\n",
    "        a0 = self.a0\n",
    "\n",
    "        self.r_pred = np.array([\n",
    "            r0_elm * (a_pred_elm[action0_elm] / np.clip(a_pred0_elm[action0_elm], 0.1, None))\n",
    "            for r0_elm, action0_elm, a0_elm, a_pred0_elm, a_pred_elm in zip(r0, actions0, a0, a_pred0, prob_a)\n",
    "        ])\n",
    "\n",
    "        # self.r_pred = np.array([\n",
    "        #     r0_elm * prob_a_elm[actions_elm] / max(a_pred0_elm[actions_elm],0.1)\n",
    "        # for r0_elm, prob_a_elm, actions_elm, a_pred0_elm in zip(r0, prob_a, actions, a_pred0)])\n",
    "\n",
    "        return abs(((r-self.r_pred)).mean())"
   ]
  },
  {
   "cell_type": "code",
   "execution_count": 29,
   "metadata": {},
   "outputs": [
    {
     "data": {
      "text/plain": [
       "<Axes: xlabel='ndata'>"
      ]
     },
     "execution_count": 29,
     "metadata": {},
     "output_type": "execute_result"
    },
    {
     "data": {
      "image/png": "[encoded data removed]",
      "text/plain": [
       "<Figure size 640x480 with 1 Axes>"
      ]
     },
     "metadata": {},
     "output_type": "display_data"
    }
   ],
   "source": [
    "ress = []\n",
    "for n_data in n_data_list:\n",
    "    estimator = Estimator(n_data)\n",
    "    ress.append(\n",
    "        {\n",
    "          \"ndata\":n_data, \n",
    "          \"DM\":estimator.DM_estimator(),\n",
    "          \"IPS\":estimator.IPS_estimator()  \n",
    "        }\n",
    "    )\n",
    "pd.DataFrame(ress).set_index(\"ndata\").plot()"
   ]
  },
  {
   "cell_type": "code",
   "execution_count": null,
   "metadata": {},
   "outputs": [],
   "source": []
  }
 ],
 "metadata": {
  "kernelspec": {
   "display_name": "venv",
   "language": "python",
   "name": "python3"
  },
  "language_info": {
   "codemirror_mode": {
    "name": "ipython",
    "version": 3
   },
   "file_extension": ".py",
   "mimetype": "text/x-python",
   "name": "python",
   "nbconvert_exporter": "python",
   "pygments_lexer": "ipython3",
   "version": "3.10.5"
  }
 },
 "nbformat": 4,
 "nbformat_minor": 2
}
