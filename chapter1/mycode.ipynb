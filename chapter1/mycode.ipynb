{
 "cells": [
  {
   "cell_type": "code",
   "execution_count": 1,
   "metadata": {},
   "outputs": [],
   "source": [
    "import numpy as np\n",
    "import pandas as pd\n",
    "from sklearn.linear_model import LinearRegression, LogisticRegression"
   ]
  },
  {
   "cell_type": "code",
   "execution_count": 103,
   "metadata": {},
   "outputs": [],
   "source": [
    "n_actions = 5\n",
    "n_features = 10\n",
    "n_data_list = [125, 250, 500, 1000, 2000, 4000, 8000, 16000, 32000]"
   ]
  },
  {
   "cell_type": "code",
   "execution_count": 104,
   "metadata": {},
   "outputs": [],
   "source": [
    "Wx0 = np.random.normal(size=(n_actions, n_features))\n",
    "Bx0 = np.random.normal(size=(n_actions, 1))\n",
    "\n",
    "Wx = np.random.normal(size=(n_actions, n_features))\n",
    "Bx = np.random.normal(size=(n_actions, 1))\n",
    "\n",
    "Wxa_x = np.random.normal(size=(n_features,))\n",
    "Wxa_a = np.random.normal(size=(n_actions,))"
   ]
  },
  {
   "cell_type": "code",
   "execution_count": 113,
   "metadata": {},
   "outputs": [],
   "source": [
    "class Estimator():\n",
    "    def __init__(self, n_data):\n",
    "        self.x = np.random.normal(size=(n_data, n_features))\n",
    "\n",
    "    def sigmoid(self, x):\n",
    "        return 1./(1.+np.exp(x))\n",
    "\n",
    "    def feature2action0(self, x):\n",
    "        prob_a = self.sigmoid(Wx0@x.T+Bx0).T\n",
    "        prob_a = prob_a/prob_a.sum(axis=1, keepdims=True)\n",
    "        return prob_a\n",
    "\n",
    "    def feature2action(self, x):\n",
    "        prob_a = self.sigmoid(Wx@x.T+Bx).T\n",
    "        prob_a = prob_a/prob_a.sum(axis=1, keepdims=True)\n",
    "        return prob_a\n",
    "\n",
    "    def sample_actions(self, prob_a):\n",
    "        data_size, action_size = prob_a.shape\n",
    "        actions = np.array([np.random.choice(action_size, p=prob_a[i]) for i in range(data_size)])\n",
    "        result = np.zeros_like(prob_a)\n",
    "        result[np.arange(data_size), actions] = 1\n",
    "        return result, actions\n",
    "\n",
    "    def action2reward(self, x, a):\n",
    "        return (Wxa_x@x.T+Wxa_a@a.T).T\n",
    "\n",
    "    def data_generator(self):\n",
    "        prob_a0 = self.feature2action0(self.x)\n",
    "        a0, actions0 = self.sample_actions(prob_a0)\n",
    "        r0 = self.action2reward(self.x, a0)\n",
    "\n",
    "        prob_a = self.feature2action(self.x)\n",
    "        a, actions = self.sample_actions(prob_a)\n",
    "        r = self.action2reward(self.x, a)\n",
    "\n",
    "        model = LogisticRegression(multi_class='multinomial', max_iter=200)\n",
    "        model.fit(X=self.x, y=actions0)\n",
    "\n",
    "        a_pred0 = model.predict_proba(self.x)\n",
    "    \n",
    "        self.prob_a = prob_a\n",
    "        self.actions0 = actions0\n",
    "\n",
    "        self.a_pred0 = a_pred0\n",
    "        self.r0 = r0\n",
    "    \n",
    "    def DR_estimator(self):\n",
    "        self.data_generator()\n",
    "        \n",
    "        r0 = self.r0\n",
    "        a_pred0 = self.a_pred0\n",
    "\n",
    "        model = LinearRegression()\n",
    "        model.fit(X=np.concatenate([self.x, a_pred0], axis=1), y=r0)\n",
    "\n",
    "        r_pred0 = model.predict(X=np.concatenate([self.x, a_pred0], axis=1))\n",
    "\n",
    "        return np.sqrt(((r0-r_pred0)**2).mean())\n",
    "\n",
    "    def IPS_estimator(self):\n",
    "        self.data_generator()\n",
    "        \n",
    "        r0 = self.r0\n",
    "        a_pred0 = self.a_pred0\n",
    "        prob_a = self.prob_a\n",
    "        actions0 = self.actions0\n",
    "\n",
    "        r_pred0 = r0 *  prob_a[actions0] / a_pred0[actions0]\n",
    "\n",
    "        return np.sqrt(((r0-r_pred0)**2).mean())"
   ]
  },
  {
   "cell_type": "code",
   "execution_count": 114,
   "metadata": {},
   "outputs": [
    {
     "name": "stdout",
     "output_type": "stream",
     "text": [
      "125 0.3056273807602827\n"
     ]
    },
    {
     "ename": "ValueError",
     "evalue": "operands could not be broadcast together with shapes (125,) (125,5) ",
     "output_type": "error",
     "traceback": [
      "\u001b[1;31m---------------------------------------------------------------------------\u001b[0m",
      "\u001b[1;31mValueError\u001b[0m                                Traceback (most recent call last)",
      "Cell \u001b[1;32mIn[114], line 4\u001b[0m\n\u001b[0;32m      2\u001b[0m estimator \u001b[38;5;241m=\u001b[39m Estimator(n_data)\n\u001b[0;32m      3\u001b[0m \u001b[38;5;28mprint\u001b[39m(n_data, estimator\u001b[38;5;241m.\u001b[39mDR_estimator())\n\u001b[1;32m----> 4\u001b[0m \u001b[38;5;28mprint\u001b[39m(n_data, \u001b[43mestimator\u001b[49m\u001b[38;5;241;43m.\u001b[39;49m\u001b[43mIPS_estimator\u001b[49m\u001b[43m(\u001b[49m\u001b[43m)\u001b[49m)\n",
      "Cell \u001b[1;32mIn[113], line 69\u001b[0m, in \u001b[0;36mEstimator.IPS_estimator\u001b[1;34m(self)\u001b[0m\n\u001b[0;32m     66\u001b[0m prob_a \u001b[38;5;241m=\u001b[39m \u001b[38;5;28mself\u001b[39m\u001b[38;5;241m.\u001b[39mprob_a\n\u001b[0;32m     67\u001b[0m actions0 \u001b[38;5;241m=\u001b[39m \u001b[38;5;28mself\u001b[39m\u001b[38;5;241m.\u001b[39mactions0\n\u001b[1;32m---> 69\u001b[0m r_pred0 \u001b[38;5;241m=\u001b[39m \u001b[43mr0\u001b[49m\u001b[43m \u001b[49m\u001b[38;5;241;43m*\u001b[39;49m\u001b[43m  \u001b[49m\u001b[43mprob_a\u001b[49m\u001b[43m[\u001b[49m\u001b[43mactions0\u001b[49m\u001b[43m]\u001b[49m \u001b[38;5;241m/\u001b[39m a_pred0[actions0]\n\u001b[0;32m     71\u001b[0m \u001b[38;5;28;01mreturn\u001b[39;00m np\u001b[38;5;241m.\u001b[39msqrt(((r0\u001b[38;5;241m-\u001b[39mr_pred0)\u001b[38;5;241m*\u001b[39m\u001b[38;5;241m*\u001b[39m\u001b[38;5;241m2\u001b[39m)\u001b[38;5;241m.\u001b[39mmean())\n",
      "\u001b[1;31mValueError\u001b[0m: operands could not be broadcast together with shapes (125,) (125,5) "
     ]
    }
   ],
   "source": [
    "for n_data in n_data_list:\n",
    "    estimator = Estimator(n_data)\n",
    "    print(n_data, estimator.DR_estimator())\n",
    "    # print(n_data, estimator.IPS_estimator())"
   ]
  },
  {
   "cell_type": "code",
   "execution_count": 59,
   "metadata": {},
   "outputs": [],
   "source": []
  },
  {
   "cell_type": "code",
   "execution_count": 63,
   "metadata": {},
   "outputs": [
    {
     "data": {
      "text/plain": [
       "42.66458776552922"
      ]
     },
     "execution_count": 63,
     "metadata": {},
     "output_type": "execute_result"
    }
   ],
   "source": []
  },
  {
   "cell_type": "code",
   "execution_count": null,
   "metadata": {},
   "outputs": [],
   "source": []
  }
 ],
 "metadata": {
  "kernelspec": {
   "display_name": "venv",
   "language": "python",
   "name": "python3"
  },
  "language_info": {
   "codemirror_mode": {
    "name": "ipython",
    "version": 3
   },
   "file_extension": ".py",
   "mimetype": "text/x-python",
   "name": "python",
   "nbconvert_exporter": "python",
   "pygments_lexer": "ipython3",
   "version": "3.10.5"
  }
 },
 "nbformat": 4,
 "nbformat_minor": 2
}
