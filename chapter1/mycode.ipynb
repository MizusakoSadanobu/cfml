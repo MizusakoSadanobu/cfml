{
 "cells": [
  {
   "cell_type": "code",
   "execution_count": 1,
   "metadata": {},
   "outputs": [],
   "source": [
    "import numpy as np\n",
    "import pandas as pd\n",
    "from sklearn.linear_model import LinearRegression, LogisticRegression"
   ]
  },
  {
   "cell_type": "code",
   "execution_count": 173,
   "metadata": {},
   "outputs": [],
   "source": [
    "n_actions = 10\n",
    "n_features = 20\n",
    "n_data_list = [125, 250, 500, 1000, 2000, 4000, 8000, 16000, 32000, 64000]"
   ]
  },
  {
   "cell_type": "code",
   "execution_count": 174,
   "metadata": {},
   "outputs": [],
   "source": [
    "Wx0 = np.random.normal(size=(n_actions, n_features))\n",
    "Bx0 = np.random.normal(size=(n_actions, 1))\n",
    "\n",
    "Wx = np.random.normal(size=(n_actions, n_features))\n",
    "Bx = np.random.normal(size=(n_actions, 1))\n",
    "\n",
    "Wxa_x = np.random.normal(size=(n_features,))\n",
    "Wxa_a = np.random.normal(size=(n_actions,))"
   ]
  },
  {
   "cell_type": "code",
   "execution_count": 177,
   "metadata": {},
   "outputs": [],
   "source": [
    "class Estimator():\n",
    "    def __init__(self, n_data):\n",
    "        self.x = np.random.normal(size=(n_data, n_features))\n",
    "        self.data_generator()\n",
    "\n",
    "    def sigmoid(self, x):\n",
    "        return 1./(1.+np.exp(x))\n",
    "\n",
    "    def feature2action0(self, x):\n",
    "        prob_a = self.sigmoid(Wx0@x.T+Bx0).T\n",
    "        prob_a = prob_a/prob_a.sum(axis=1, keepdims=True)\n",
    "        return prob_a\n",
    "\n",
    "    def feature2action(self, x):\n",
    "        prob_a = self.sigmoid(Wx@x.T+Bx).T\n",
    "        prob_a = prob_a/prob_a.sum(axis=1, keepdims=True)\n",
    "        return prob_a\n",
    "\n",
    "    def sample_actions(self, prob_a):\n",
    "        data_size, action_size = prob_a.shape\n",
    "        actions = np.array([np.random.choice(action_size, p=prob_a[i]) for i in range(data_size)])\n",
    "        result = np.zeros_like(prob_a)\n",
    "        result[np.arange(data_size), actions] = 1\n",
    "        return result, actions\n",
    "\n",
    "    def action2reward(self, x, a):\n",
    "        seeds = self.sigmoid((Wxa_x@x.T+Wxa_a@a.T).T)\n",
    "        return (np.random.uniform(low=0, high=1.0, size=len(seeds)) > seeds)*1.0\n",
    "\n",
    "    def data_generator(self):\n",
    "        prob_a0 = self.feature2action0(self.x)\n",
    "        a0, actions0 = self.sample_actions(prob_a0)\n",
    "        r0 = self.action2reward(self.x, a0)\n",
    "\n",
    "        prob_a = self.feature2action(self.x)\n",
    "        a, actions = self.sample_actions(prob_a)\n",
    "        r = self.action2reward(self.x, a)\n",
    "\n",
    "        model = LogisticRegression(multi_class='multinomial', max_iter=200, solver='lbfgs')\n",
    "        model.fit(X=self.x, y=actions0)\n",
    "\n",
    "        a_pred0 = model.predict_proba(self.x)\n",
    "        a_pred0 = a_pred0 / a_pred0.sum(axis=1, keepdims=True)\n",
    "    \n",
    "        self.prob_a = prob_a\n",
    "        self.actions0 = actions0\n",
    "        self.actions = actions\n",
    "        self.a_pred0 = a_pred0\n",
    "        self.r0 = r0\n",
    "        self.r = r\n",
    "    \n",
    "    def DM_estimator(self):\n",
    "        r0 = self.r0\n",
    "        r = self.r\n",
    "        a_pred0 = self.a_pred0\n",
    "        prob_a = self.prob_a\n",
    "\n",
    "        model = LogisticRegression()\n",
    "        model.fit(X=np.concatenate([self.x, a_pred0], axis=1), y=r0)\n",
    "\n",
    "        r_pred = model.predict_proba(X=np.concatenate([self.x, prob_a], axis=1))[:,1]\n",
    "\n",
    "        return abs(r.mean()-r_pred.mean())\n",
    "\n",
    "    def IPS_estimator(self):\n",
    "        r0 = self.r0\n",
    "        r = self.r\n",
    "        a_pred0 = self.a_pred0\n",
    "        prob_a = self.prob_a\n",
    "        actions = self.actions\n",
    "\n",
    "        r_pred = r0 * np.array([\n",
    "            prob_a_elm[actions_elm] / a_pred0_elm[actions_elm]\n",
    "        for prob_a_elm, actions_elm, a_pred0_elm in zip(prob_a, actions, a_pred0)])\n",
    "\n",
    "        return abs(r.mean()-r_pred.mean())"
   ]
  },
  {
   "cell_type": "code",
   "execution_count": 178,
   "metadata": {},
   "outputs": [
    {
     "name": "stdout",
     "output_type": "stream",
     "text": [
      "DM 125 0.025620829056584027\n",
      "IPS 125 8.71128131920488\n",
      "DM 250 0.035654765569021474\n",
      "IPS 250 51.36207313486178\n",
      "DM 500 0.03334706585221292\n",
      "IPS 500 4.785111532743227\n",
      "DM 1000 0.0037378919061957783\n",
      "IPS 1000 2.5595522407746802\n",
      "DM 2000 0.013360177740327273\n",
      "IPS 2000 2.4439093883362526\n",
      "DM 4000 0.009321812920575767\n",
      "IPS 4000 2.327193403892534\n",
      "DM 8000 0.0049184229958944\n",
      "IPS 8000 1.9427964299000937\n",
      "DM 16000 0.0009611410715669733\n",
      "IPS 16000 1.9241693942554767\n",
      "DM 32000 0.00407535502498646\n",
      "IPS 32000 2.082217939444149\n",
      "DM 64000 0.003180852401700962\n",
      "IPS 64000 1.979827273537869\n"
     ]
    }
   ],
   "source": [
    "for n_data in n_data_list:\n",
    "    estimator = Estimator(n_data)\n",
    "    print(\"DM\", n_data, estimator.DM_estimator())\n",
    "    print(\"IPS\", n_data, estimator.IPS_estimator())"
   ]
  },
  {
   "cell_type": "code",
   "execution_count": 59,
   "metadata": {},
   "outputs": [],
   "source": []
  },
  {
   "cell_type": "code",
   "execution_count": 63,
   "metadata": {},
   "outputs": [
    {
     "data": {
      "text/plain": [
       "42.66458776552922"
      ]
     },
     "execution_count": 63,
     "metadata": {},
     "output_type": "execute_result"
    }
   ],
   "source": []
  },
  {
   "cell_type": "code",
   "execution_count": null,
   "metadata": {},
   "outputs": [],
   "source": []
  }
 ],
 "metadata": {
  "kernelspec": {
   "display_name": "venv",
   "language": "python",
   "name": "python3"
  },
  "language_info": {
   "codemirror_mode": {
    "name": "ipython",
    "version": 3
   },
   "file_extension": ".py",
   "mimetype": "text/x-python",
   "name": "python",
   "nbconvert_exporter": "python",
   "pygments_lexer": "ipython3",
   "version": "3.10.5"
  }
 },
 "nbformat": 4,
 "nbformat_minor": 2
}
