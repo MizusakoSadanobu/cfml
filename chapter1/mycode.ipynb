{
 "cells": [
  {
   "cell_type": "code",
   "execution_count": 1,
   "metadata": {},
   "outputs": [],
   "source": [
    "import numpy as np\n",
    "import pandas as pd\n",
    "from sklearn.linear_model import LinearRegression, LogisticRegression"
   ]
  },
  {
   "cell_type": "code",
   "execution_count": 2,
   "metadata": {},
   "outputs": [],
   "source": [
    "n_actions = 10\n",
    "n_features = 20\n",
    "n_data_list = [250, 500, 1000, 2000, 4000, 8000]"
   ]
  },
  {
   "cell_type": "code",
   "execution_count": 51,
   "metadata": {},
   "outputs": [],
   "source": [
    "n_data = n_data_list[1]\n",
    "\n",
    "x = np.random.normal(size=(n_data, n_features))\n",
    "Wx0 = np.random.normal(size=(n_actions, n_features))\n",
    "Bx0 = np.random.normal(size=(n_actions, 1))\n",
    "\n",
    "Wx = np.random.normal(size=(n_actions, n_features))\n",
    "Bx = np.random.normal(size=(n_actions, 1))\n",
    "\n",
    "Wxa_x = np.random.normal(size=(n_features,))\n",
    "Wxa_a = np.random.normal(size=(n_actions,))\n",
    "\n",
    "def sigmoid(x):\n",
    "    return 1./(1.+np.exp(x))\n",
    "\n",
    "def feature2action0(x):\n",
    "    prob_a = sigmoid(Wx0@x.T+Bx0).T\n",
    "    prob_a = prob_a/prob_a.sum(axis=1, keepdims=True)\n",
    "    return prob_a\n",
    "\n",
    "def feature2action(x):\n",
    "    prob_a = sigmoid(Wx@x.T+Bx).T\n",
    "    prob_a = prob_a/prob_a.sum(axis=1, keepdims=True)\n",
    "    return prob_a\n",
    "\n",
    "def sample_actions(prob_a):\n",
    "    data_size, action_size = prob_a.shape\n",
    "    actions = np.array([np.random.choice(action_size, p=prob_a[i]) for i in range(data_size)])\n",
    "    result = np.zeros_like(prob_a)\n",
    "    result[np.arange(data_size), actions] = 1\n",
    "    return result, actions\n",
    "\n",
    "def action2reward(x, a):\n",
    "    return (Wxa_x@x.T+Wxa_a@a.T).T"
   ]
  },
  {
   "cell_type": "code",
   "execution_count": 52,
   "metadata": {},
   "outputs": [],
   "source": [
    "prob_a0 = feature2action0(x)\n",
    "a0, actions0 = sample_actions(prob_a0)\n",
    "r0 = action2reward(x, a0)\n",
    "\n",
    "prob_a = feature2action(x)\n",
    "a, actions = sample_actions(prob_a)\n",
    "r = action2reward(x, a)"
   ]
  },
  {
   "cell_type": "code",
   "execution_count": 59,
   "metadata": {},
   "outputs": [],
   "source": [
    "model = LogisticRegression(multi_class='multinomial', max_iter=200)\n",
    "model.fit(X=x, y=actions0)\n",
    "a_pred0 = model.predict_proba(x)\n",
    "\n",
    "model = LinearRegression()\n",
    "model.fit(X=np.concatenate([x, a_pred0], axis=1), y=r0)\n",
    "\n",
    "r_pred = model.predict(X=np.concatenate([x, prob_a], axis=1))"
   ]
  },
  {
   "cell_type": "code",
   "execution_count": 63,
   "metadata": {},
   "outputs": [
    {
     "data": {
      "text/plain": [
       "42.66458776552922"
      ]
     },
     "execution_count": 63,
     "metadata": {},
     "output_type": "execute_result"
    }
   ],
   "source": [
    "(((r-r_pred)/r)**2).mean()"
   ]
  },
  {
   "cell_type": "code",
   "execution_count": null,
   "metadata": {},
   "outputs": [],
   "source": []
  }
 ],
 "metadata": {
  "kernelspec": {
   "display_name": "venv",
   "language": "python",
   "name": "python3"
  },
  "language_info": {
   "codemirror_mode": {
    "name": "ipython",
    "version": 3
   },
   "file_extension": ".py",
   "mimetype": "text/x-python",
   "name": "python",
   "nbconvert_exporter": "python",
   "pygments_lexer": "ipython3",
   "version": "3.10.5"
  }
 },
 "nbformat": 4,
 "nbformat_minor": 2
}
