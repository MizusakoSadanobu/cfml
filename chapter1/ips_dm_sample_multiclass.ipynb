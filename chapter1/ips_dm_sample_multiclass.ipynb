{
 "cells": [
  {
   "cell_type": "code",
   "execution_count": 26,
   "metadata": {},
   "outputs": [],
   "source": [
    "import pandas as pd\n",
    "import numpy as np\n",
    "from sklearn.linear_model import LinearRegression, LogisticRegression\n",
    "from sklearn.preprocessing import OneHotEncoder\n",
    "\n",
    "# シグモイド関数の定義\n",
    "def sigmoid(x):\n",
    "    return 1./(1+np.exp(-x))\n",
    "\n",
    "# シミュレーション用のクラス\n",
    "class Simulator():\n",
    "    def set_num_data(self, num_data):\n",
    "        self.num_data = num_data\n",
    "\n",
    "    def generate_linear_data(self):\n",
    "        num_data = self.num_data\n",
    "        # 説明変数x1, x2を生成し、介入と報酬を決定\n",
    "        self.df = pd.DataFrame({\n",
    "            \"x1\": np.random.normal(size=num_data),\n",
    "            \"x2\": np.random.normal(size=num_data),\n",
    "        }).assign(\n",
    "            # 介入確率をシグモイド関数で決定し、3つの介入（0, 1, 2）をランダムに割り当て\n",
    "            prob_t0 = lambda df: sigmoid(df.x1 + df.x2),\n",
    "            prob_t1 = lambda df: (1-df.prob_t0)*sigmoid(df.x1**2 - df.x2),\n",
    "            prob_t2 = lambda df: 1 - df.prob_t0 - df.prob_t1,\n",
    "            t = lambda df: np.vectorize(lambda prob_t0, prob_t1, prob_t2: np.random.choice([0, 1, 2], p=[prob_t0, prob_t1, prob_t2]))(df[\"prob_t0\"], df[\"prob_t1\"], df[\"prob_t2\"]),#np.random.choice([0, 1, 2], size=num_data, p=[0.3, 0.4, 0.3]),\n",
    "            # 各介入に応じた報酬を設定\n",
    "            reward = lambda df: df.x1 - df.x2 + df.t * 0.5\n",
    "        )\n",
    "        return self.df\n",
    "\n",
    "    def generate_nonlinear_data(self):\n",
    "        num_data = self.num_data\n",
    "        self.df = pd.DataFrame({\n",
    "            \"x1\": np.random.normal(size=num_data),\n",
    "            \"x2\": np.random.normal(size=num_data),\n",
    "        }).assign(\n",
    "            prob_t0 = lambda df: sigmoid(np.sin(df.x1) - df.x2**2),\n",
    "            prob_t1 = lambda df: (1-df.prob_t0)*sigmoid(df.x1**2 - df.x2),\n",
    "            prob_t2 = lambda df: 1 - df.prob_t0 - df.prob_t1,\n",
    "            t = lambda df: np.vectorize(lambda prob_t0, prob_t1, prob_t2: np.random.choice([0, 1, 2], p=[prob_t0, prob_t1, prob_t2]))(df[\"prob_t0\"], df[\"prob_t1\"], df[\"prob_t2\"]),#np.random.choice([0, 1, 2], size=num_data, p=[0.3, 0.4, 0.3]),\n",
    "            reward = lambda df: sigmoid(np.sin(df.x1) - df.x2**4) + df.t * 0.5\n",
    "        )\n",
    "        return self.df\n",
    "\n",
    "    # IPS（Inverse Probability Weighting）法による因果効果の推定\n",
    "    def IPS(self):\n",
    "        df = self.df\n",
    "        # 介入の確率をロジスティック回帰で推定（3クラス分類）\n",
    "        model = LogisticRegression(multi_class='multinomial').fit(df[[\"x1\", \"x2\"]], df[\"t\"])\n",
    "        # t_pred = model.predict_proba(df[[\"x1\", \"x2\"]])\n",
    "        epsilon = 1e-6  # 最小値を設定\n",
    "        t_pred = np.clip(model.predict_proba(df[[\"x1\", \"x2\"]]), epsilon, 1-epsilon)\n",
    "\n",
    "        # 逆確率重み付き平均\n",
    "        df[\"reward_treatment_0\"] = df[\"reward\"] * (df[\"t\"] == 0) / t_pred[:, 0]\n",
    "        df[\"reward_treatment_1\"] = df[\"reward\"] * (df[\"t\"] == 1) / t_pred[:, 1]\n",
    "        df[\"reward_treatment_2\"] = df[\"reward\"] * (df[\"t\"] == 2) / t_pred[:, 2]\n",
    "\n",
    "        # 3つの介入レベルの報酬の加重平均を計算\n",
    "        df[\"reward_treatment\"] = df[\"reward_treatment_0\"] + df[\"reward_treatment_1\"] + df[\"reward_treatment_2\"]\n",
    "\n",
    "        # # 真の因果効果を定義（効果: t=0 -> 0, t=1 -> 0.5, t=2 -> 1）\n",
    "        # true_effect = df[\"t\"] * 0.5\n",
    "\n",
    "        # # 推定された因果効果の誤差を計算\n",
    "        # return abs(df[\"reward_treatment\"].mean() - true_effect.mean())\n",
    "        return abs((df[\"reward_treatment_2\"]-df[\"reward_treatment_0\"]).mean()-1.)\n",
    "\n",
    "    # DM（Direct Method）法による因果効果の推定\n",
    "    def DM(self):\n",
    "        df = self.df\n",
    "        t_encoded = pd.get_dummies(df[\"t\"]).values\n",
    "\n",
    "        # 線形回帰モデルを使って報酬を予測\n",
    "        model = LinearRegression().fit(np.hstack([df[[\"x1\", \"x2\"]], t_encoded]), df[\"reward\"])\n",
    "\n",
    "        # 各介入レベルに対して、x1, x2と介入ダミー変数を含むデータを生成\n",
    "        rewards = []\n",
    "        for i in range(3):\n",
    "            t_encoded_i = np.zeros_like(t_encoded)\n",
    "            t_encoded_i[:, i] = 1\n",
    "            X_new = np.hstack([df[[\"x1\", \"x2\"]], t_encoded_i])\n",
    "            rewards.append(model.predict(X_new))\n",
    "        \n",
    "        # 各介入レベルごとの報酬を合計して平均する\n",
    "        df[\"reward_treatment_0\"] = rewards[:,0]\n",
    "        df[\"reward_treatment_1\"] = rewards[:,1]\n",
    "        df[\"reward_treatment_2\"] = rewards[:,2]\n",
    "\n",
    "        # # 真の因果効果を定義（効果: t=0 -> 0, t=1 -> 0.5, t=2 -> 1）\n",
    "        # true_effect = df[\"t\"] * 0.5\n",
    "\n",
    "        # # 推定された因果効果の誤差を計算\n",
    "        # return abs(df[\"reward_treatment\"].mean() - true_effect.mean())\n",
    "        return abs((df[\"reward_treatment_2\"]-df[\"reward_treatment_0\"]).mean()-1.)\n",
    "\n",
    "\n",
    "    def sim_linear(self):\n",
    "        ress = []\n",
    "        for num_data in [100, 200, 400, 800, 1600, 6400, 12800]:\n",
    "            res = {\"num_data\": num_data}\n",
    "            self.set_num_data(num_data)\n",
    "            ips = []\n",
    "            dm = []\n",
    "            for _ in range(100):\n",
    "                self.generate_linear_data()\n",
    "                ips.append(self.IPS())\n",
    "                dm.append(self.DM())\n",
    "            res[\"IPS\"] = np.mean(ips)\n",
    "            res[\"DM\"] = np.mean(dm)\n",
    "            ress.append(res)\n",
    "        return pd.DataFrame(ress).set_index(\"num_data\")\n",
    "\n",
    "    def sim_nonlinear(self):\n",
    "        ress = []\n",
    "        for num_data in [100, 200, 400, 800, 1600, 12800]:\n",
    "            res = {\"num_data\": num_data}\n",
    "            self.set_num_data(num_data)\n",
    "            ips = []\n",
    "            dm = []\n",
    "            for _ in range(100):\n",
    "                self.generate_nonlinear_data()\n",
    "                ips.append(self.IPS())\n",
    "                dm.append(self.DM())\n",
    "            res[\"IPS\"] = np.mean(ips)\n",
    "            res[\"DM\"] = np.mean(dm)\n",
    "            ress.append(res)\n",
    "        return pd.DataFrame(ress).set_index(\"num_data\")\n"
   ]
  },
  {
   "cell_type": "code",
   "execution_count": 23,
   "metadata": {},
   "outputs": [],
   "source": [
    "simulator = Simulator()"
   ]
  },
  {
   "cell_type": "markdown",
   "metadata": {},
   "source": [
    "# 線形モデルを線形モデルでFitingする場合\n",
    "- DMの精度はIPSよりもよい"
   ]
  },
  {
   "cell_type": "code",
   "execution_count": 27,
   "metadata": {},
   "outputs": [
    {
     "data": {
      "text/plain": [
       "<Axes: xlabel='num_data', ylabel='error'>"
      ]
     },
     "execution_count": 27,
     "metadata": {},
     "output_type": "execute_result"
    },
    {
     "data": {
      "image/png": "[encoded data removed]",
      "text/plain": [
       "<Figure size 640x480 with 1 Axes>"
      ]
     },
     "metadata": {},
     "output_type": "display_data"
    }
   ],
   "source": [
    "simulator.sim_linear().plot(ylabel=\"error\")"
   ]
  },
  {
   "cell_type": "markdown",
   "metadata": {},
   "source": [
    "# 非線形モデルを線形モデルでFitingする場合\n",
    "- IPSの精度がDMを上回る"
   ]
  },
  {
   "cell_type": "code",
   "execution_count": 28,
   "metadata": {},
   "outputs": [
    {
     "data": {
      "text/plain": [
       "<Axes: xlabel='num_data', ylabel='error'>"
      ]
     },
     "execution_count": 28,
     "metadata": {},
     "output_type": "execute_result"
    },
    {
     "data": {
      "image/png": "[encoded data removed]",
      "text/plain": [
       "<Figure size 640x480 with 1 Axes>"
      ]
     },
     "metadata": {},
     "output_type": "display_data"
    }
   ],
   "source": [
    "simulator.sim_nonlinear().plot(ylabel=\"error\")"
   ]
  },
  {
   "cell_type": "code",
   "execution_count": null,
   "metadata": {},
   "outputs": [],
   "source": []
  }
 ],
 "metadata": {
  "kernelspec": {
   "display_name": "venv",
   "language": "python",
   "name": "python3"
  },
  "language_info": {
   "codemirror_mode": {
    "name": "ipython",
    "version": 3
   },
   "file_extension": ".py",
   "mimetype": "text/x-python",
   "name": "python",
   "nbconvert_exporter": "python",
   "pygments_lexer": "ipython3",
   "version": "3.10.5"
  }
 },
 "nbformat": 4,
 "nbformat_minor": 2
}
